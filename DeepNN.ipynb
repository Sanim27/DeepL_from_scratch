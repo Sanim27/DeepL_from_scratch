{
  "nbformat": 4,
  "nbformat_minor": 0,
  "metadata": {
    "colab": {
      "provenance": [],
      "gpuType": "T4",
      "authorship_tag": "ABX9TyO9NtATT0uZlh5QT9AzvhfH",
      "include_colab_link": true
    },
    "kernelspec": {
      "name": "python3",
      "display_name": "Python 3"
    },
    "language_info": {
      "name": "python"
    },
    "accelerator": "GPU"
  },
  "cells": [
    {
      "cell_type": "markdown",
      "metadata": {
        "id": "view-in-github",
        "colab_type": "text"
      },
      "source": [
        "<a href=\"https://colab.research.google.com/github/Sanim27/DeepL_from_scratch/blob/main/DeepNN.ipynb\" target=\"_parent\"><img src=\"https://colab.research.google.com/assets/colab-badge.svg\" alt=\"Open In Colab\"/></a>"
      ]
    },
    {
      "cell_type": "markdown",
      "source": [
        "### Initialize parameters."
      ],
      "metadata": {
        "id": "svwqzOf_4LQP"
      }
    },
    {
      "cell_type": "markdown",
      "source": [
        "First, for 2 layer neural network. With one hidden layer and one output layer."
      ],
      "metadata": {
        "id": "pRGPXjWu4RD2"
      }
    },
    {
      "cell_type": "code",
      "source": [
        "import numpy as np"
      ],
      "metadata": {
        "id": "wqezwBvF42Fk"
      },
      "execution_count": 1,
      "outputs": []
    },
    {
      "cell_type": "code",
      "execution_count": 2,
      "metadata": {
        "id": "ar-e4lhAy6Wt"
      },
      "outputs": [],
      "source": [
        "def initialize_parameters(n_x,n_h,n_y):\n",
        "  W1=np.random.randn(n_h,n_x)*0.01\n",
        "  b1=np.zeros((n_h,1))\n",
        "  W2=np.random.randn(n_y,n_h)*0.01\n",
        "  b2=np.zeros((n_y,1))\n",
        "\n",
        "  parameters={\"W1\":W1,\"b1\":b1,\"W2\":W2,\"b2\":b2}\n",
        "  return parameters"
      ]
    },
    {
      "cell_type": "markdown",
      "source": [
        "Now, for L layer deep neural network. Initialization."
      ],
      "metadata": {
        "id": "H7qulxFT4yYF"
      }
    },
    {
      "cell_type": "code",
      "source": [
        "# def initialize_deep(layers_dims):\n",
        "#   L=len(layers_dims)\n",
        "#   parameters={}\n",
        "#   for l in range(1,L):\n",
        "#     parameters[\"W\"+str(l)]=np.random.randn(layers_dims[l],layers_dims[l-1])*0.01\n",
        "#     parameters[\"b\"+str(l)]=np.zeros((layers_dims[l],1))\n",
        "\n",
        "#   return parameters\n",
        "\n",
        "def initialize_deep(layer_dims):\n",
        "    parameters = {}\n",
        "    L = len(layer_dims)\n",
        "\n",
        "    for l in range(1, L):\n",
        "        parameters['W' + str(l)] = np.random.randn(layer_dims[l], layer_dims[l-1]) * np.sqrt(2. / layer_dims[l-1])\n",
        "        parameters['b' + str(l)] = np.zeros((layer_dims[l], 1))\n",
        "\n",
        "    return parameters\n"
      ],
      "metadata": {
        "id": "NtEL_oeW4oZ5"
      },
      "execution_count": 49,
      "outputs": []
    },
    {
      "cell_type": "markdown",
      "source": [
        "Now forward_propagation."
      ],
      "metadata": {
        "id": "3b1lLIFZ6hPT"
      }
    },
    {
      "cell_type": "code",
      "source": [
        "def sigmoid(Z):\n",
        "  return 1/(1+np.exp(-Z)),Z"
      ],
      "metadata": {
        "id": "y9efTw5d5vmO"
      },
      "execution_count": 4,
      "outputs": []
    },
    {
      "cell_type": "code",
      "source": [
        "def relu(Z):\n",
        "  return np.maximum(0, Z),Z"
      ],
      "metadata": {
        "id": "xjH0-8y16sBz"
      },
      "execution_count": 5,
      "outputs": []
    },
    {
      "cell_type": "code",
      "source": [
        "def linear_forward(A,W,b):\n",
        "  Z=np.dot(W,A)+b\n",
        "  cache=(A,W,b)\n",
        "  return Z,cache"
      ],
      "metadata": {
        "id": "BRj3PIii6wTn"
      },
      "execution_count": 6,
      "outputs": []
    },
    {
      "cell_type": "markdown",
      "source": [
        "The caching in above function is done so that it helps in back_prop"
      ],
      "metadata": {
        "id": "V3NjtwZT80VO"
      }
    },
    {
      "cell_type": "code",
      "source": [
        "def linear_activation_forward(A_prev, W, b, activation):\n",
        "  if activation==\"sigmoid\":\n",
        "    Z,linear_cache=linear_forward(A_prev,W,b)\n",
        "    A,activation_cache=sigmoid(Z)\n",
        "  elif activation==\"relu\":\n",
        "    Z,linear_cache=linear_forward(A_prev,W,b)\n",
        "    A,activation_cache=relu(Z)\n",
        "  cache=(linear_cache,activation_cache)\n",
        "  return A,cache"
      ],
      "metadata": {
        "id": "JhirrnrY7y5U"
      },
      "execution_count": 7,
      "outputs": []
    },
    {
      "cell_type": "markdown",
      "source": [
        "### Now lets implement the L-layer forward prop"
      ],
      "metadata": {
        "id": "KVjaagZ5Dr3I"
      }
    },
    {
      "cell_type": "code",
      "source": [
        "def L_model_forward(parameters,X):\n",
        "  caches=[]\n",
        "  A=X\n",
        "  L=len(parameters)//2   #// is used to ensure L is integer as we have to loop through it.\n",
        "  for l in range(1,L):\n",
        "    A_prev=A\n",
        "    A,cache=linear_activation_forward(A_prev,parameters[\"W\"+str(l)],parameters[\"b\"+str(l)],\"relu\")\n",
        "    caches.append(cache)\n",
        "\n",
        "  AL,cache=linear_activation_forward(A,parameters[\"W\"+str(L)],parameters[\"b\"+str(L)],\"sigmoid\")\n",
        "  caches.append(cache)\n",
        "  return AL,caches"
      ],
      "metadata": {
        "id": "UnS8uDVIBZIu"
      },
      "execution_count": 8,
      "outputs": []
    },
    {
      "cell_type": "markdown",
      "source": [
        "Computing cost now..."
      ],
      "metadata": {
        "id": "hFCK78jfF8Y-"
      }
    },
    {
      "cell_type": "code",
      "source": [
        "def compute_cost(AL,Y):\n",
        "  m=Y.shape[1]\n",
        "  logprobs=np.multiply(np.log(AL),Y)+np.multiply(np.log(1-AL),1-Y)\n",
        "  cost=-np.sum(logprobs)/m\n",
        "  cost=float(np.squeeze(cost))\n",
        "  return cost"
      ],
      "metadata": {
        "id": "P7EvI_OXF8KP"
      },
      "execution_count": 35,
      "outputs": []
    },
    {
      "cell_type": "markdown",
      "source": [
        "### Here comes the fun part: BACK PROPAGATION..."
      ],
      "metadata": {
        "id": "MKx7lQqiG-DW"
      }
    },
    {
      "cell_type": "code",
      "source": [
        "def linear_backward(dZ,cache):\n",
        "  A_prev,W,b=cache\n",
        "  m=A_prev.shape[1]\n",
        "  dW=(1/m)*np.dot(dZ,A_prev.T)\n",
        "  db=(1/m)*np.sum(dZ,axis=1,keepdims=True)\n",
        "  dA_prev=np.dot(W.T,dZ)\n",
        "\n",
        "  return dA_prev,dW,db"
      ],
      "metadata": {
        "id": "kutL5h3pGZuR"
      },
      "execution_count": 10,
      "outputs": []
    },
    {
      "cell_type": "code",
      "source": [
        "def sigmoid_backward(dA, activation_cache):\n",
        "    Z = activation_cache\n",
        "    A = 1 / (1 + np.exp(-Z))  # Calculate sigmoid output A\n",
        "    dZ = dA * A * (1 - A)     # Use derivative A(1 - A)\n",
        "    return dZ"
      ],
      "metadata": {
        "id": "79D9TsH6q5n_"
      },
      "execution_count": 11,
      "outputs": []
    },
    {
      "cell_type": "code",
      "source": [
        "def relu_backward(dA,activation_cache):\n",
        "  Z=activation_cache\n",
        "  return dA*(Z>0)"
      ],
      "metadata": {
        "id": "t8tHwKsj4nBm"
      },
      "execution_count": 12,
      "outputs": []
    },
    {
      "cell_type": "code",
      "source": [
        "def linear_activation_backward(dA,cache,activation):\n",
        "  linear_cache,activation_cache=cache\n",
        "  if activation==\"sigmoid\":\n",
        "    dZ=sigmoid_backward(dA,activation_cache)\n",
        "  elif activation==\"relu\":\n",
        "    dZ=relu_backward(dA,activation_cache)\n",
        "  dA_prev,dW,db=linear_backward(dZ,linear_cache)\n",
        "  return dA_prev,dW,db"
      ],
      "metadata": {
        "id": "cgDwbziopO0m"
      },
      "execution_count": 13,
      "outputs": []
    },
    {
      "cell_type": "markdown",
      "source": [
        "Testing these first."
      ],
      "metadata": {
        "id": "G22rAkgN6S9h"
      }
    },
    {
      "cell_type": "code",
      "source": [
        "import numpy as np\n",
        "\n",
        "# Create dummy inputs\n",
        "np.random.seed(1)\n",
        "A_prev = np.random.randn(3, 2)   # Simulate 3 neurons, 2 examples\n",
        "W = np.random.randn(1, 3)        # 1 output, 3 inputs\n",
        "b = np.random.randn(1, 1)        # 1 output bias\n",
        "Z = np.random.randn(1, 2)        # Linear output (before activation)\n",
        "\n",
        "# Cache for the backward functions\n",
        "cache = (A_prev, W, b)\n",
        "activation_cache = Z\n",
        "\n",
        "# Simulate dA (upstream gradient, random for testing)\n",
        "dA = np.random.randn(1, 2)\n",
        "\n",
        "# Test sigmoid_backward\n",
        "print(\"Testing sigmoid_backward:\")\n",
        "dZ_sigmoid = sigmoid_backward(dA, activation_cache)\n",
        "print(\"dZ (sigmoid):\", dZ_sigmoid)\n",
        "\n",
        "# Test relu_backward\n",
        "print(\"\\nTesting relu_backward:\")\n",
        "dZ_relu = relu_backward(dA, activation_cache)\n",
        "print(\"dZ (ReLU):\", dZ_relu)\n",
        "\n",
        "# Test linear_backward\n",
        "print(\"\\nTesting linear_backward:\")\n",
        "dA_prev, dW, db = linear_backward(dZ_sigmoid, cache)\n",
        "print(\"dA_prev:\", dA_prev)\n",
        "print(\"dW:\", dW)\n",
        "print(\"db:\", db)\n",
        "\n",
        "# Test linear_activation_backward with sigmoid activation\n",
        "print(\"\\nTesting linear_activation_backward (sigmoid):\")\n",
        "cache_combined = (cache, activation_cache)\n",
        "dA_prev, dW, db = linear_activation_backward(dA, cache_combined, activation=\"sigmoid\")\n",
        "print(\"dA_prev (sigmoid):\", dA_prev)\n",
        "print(\"dW (sigmoid):\", dW)\n",
        "print(\"db (sigmoid):\", db)\n",
        "\n",
        "# Test linear_activation_backward with ReLU activation\n",
        "print(\"\\nTesting linear_activation_backward (ReLU):\")\n",
        "dA_prev, dW, db = linear_activation_backward(dA, cache_combined, activation=\"relu\")\n",
        "print(\"dA_prev (ReLU):\", dA_prev)\n",
        "print(\"dW (ReLU):\", dW)\n",
        "print(\"db (ReLU):\", db)"
      ],
      "metadata": {
        "colab": {
          "base_uri": "https://localhost:8080/"
        },
        "id": "ylKhztE46QOn",
        "outputId": "4def547f-7654-4572-e10c-81344875ab0b"
      },
      "execution_count": 14,
      "outputs": [
        {
          "output_type": "stream",
          "name": "stdout",
          "text": [
            "Testing sigmoid_backward:\n",
            "dZ (sigmoid): [[-0.04924811 -0.03850358]]\n",
            "\n",
            "Testing relu_backward:\n",
            "dZ (ReLU): [[-0.3224172 -0.       ]]\n",
            "\n",
            "Testing linear_backward:\n",
            "dA_prev: [[-0.08592869 -0.0671815 ]\n",
            " [ 0.037488    0.02930919]\n",
            " [-0.01571207 -0.01228415]]\n",
            "dW: [[-0.02822057  0.0336623   0.02299889]]\n",
            "db: [[-0.04387585]]\n",
            "\n",
            "Testing linear_activation_backward (sigmoid):\n",
            "dA_prev (sigmoid): [[-0.08592869 -0.0671815 ]\n",
            " [ 0.037488    0.02930919]\n",
            " [-0.01571207 -0.01228415]]\n",
            "dW (sigmoid): [[-0.02822057  0.0336623   0.02299889]]\n",
            "db (sigmoid): [[-0.04387585]]\n",
            "\n",
            "Testing linear_activation_backward (ReLU):\n",
            "dA_prev (ReLU): [[-0.56255733  0.        ]\n",
            " [ 0.2454262   0.        ]\n",
            " [-0.10286369  0.        ]]\n",
            "dW (ReLU): [[-0.26185845  0.08514583 -0.13951115]]\n",
            "db (ReLU): [[-0.1612086]]\n"
          ]
        }
      ]
    },
    {
      "cell_type": "markdown",
      "source": [
        "Lets move on to L_Model_Backward now..."
      ],
      "metadata": {
        "id": "dNjs67He67ws"
      }
    },
    {
      "cell_type": "code",
      "source": [
        "#caches are stored in this format. Hence L=len(caches) gives number of layers.\n",
        "# caches = [\n",
        "#     ((A0, W1, b1), Z1),   # First layer cache (linear + activation)\n",
        "#     ((A1, W2, b2), Z2)    # Second layer cache (linear + activation)\n",
        "# ]"
      ],
      "metadata": {
        "id": "BiEhISfp-9MA"
      },
      "execution_count": 15,
      "outputs": []
    },
    {
      "cell_type": "markdown",
      "source": [
        "Lets just imagine that our network is 5 layers deep (with output layer considered within): 4 hidden layers+1output layer. Hence L=5\n",
        "dAL=dA5....grads[\"dA\"+str(L-1)] outside of for loop gives , dA4...also loop runs from 3,2,1,0 since L-1=4 is not included in the range. so we must use : grads[\"dA\"+str(l)] inside the loop as we still want dA3."
      ],
      "metadata": {
        "id": "Iqi21LXlRIB7"
      }
    },
    {
      "cell_type": "code",
      "source": [
        "def L_model_backward(AL,Y,caches):\n",
        "  grads={}\n",
        "  m=AL.shape[1]\n",
        "  L=len(caches)\n",
        "  dAL=np.divide(-Y,AL)+np.divide((1-Y),(1-AL))\n",
        "  current_cache=caches[L-1]    #cache for layer L-1\n",
        "  grads[\"dA\"+str(L-1)],grads[\"dW\"+str(L)],grads[\"db\"+str(L)]=linear_activation_backward(dAL,current_cache,\"sigmoid\")  #dA4,dW5,db5\n",
        "  for l in reversed(range(L-1)):\n",
        "    current_cache=caches[l]\n",
        "    grads[\"dA\"+str(l)],grads[\"dW\"+str(l+1)],grads[\"db\"+str(l+1)]=linear_activation_backward(grads[\"dA\"+str(l+1)],current_cache,\"relu\") #dA3,dW4,db4\n",
        "\n",
        "  return grads"
      ],
      "metadata": {
        "id": "7FJkPbi06VV2"
      },
      "execution_count": 16,
      "outputs": []
    },
    {
      "cell_type": "code",
      "source": [
        "def update_parameters(parameters,grads,learning_rate):\n",
        "  L=len(parameters)//2\n",
        "  for l in range(L):\n",
        "    parameters[\"W\"+str(l+1)]=parameters[\"W\"+str(l+1)]-learning_rate*grads[\"dW\"+str(l+1)]\n",
        "    parameters[\"b\"+str(l+1)]=parameters[\"b\"+str(l+1)]-learning_rate*grads[\"db\"+str(l+1)]\n",
        "  return parameters"
      ],
      "metadata": {
        "id": "4Z_ZysIESNzE"
      },
      "execution_count": 17,
      "outputs": []
    },
    {
      "cell_type": "markdown",
      "source": [
        "### Everything is ready . Now we just need to apply these two models."
      ],
      "metadata": {
        "id": "rj96JDqbVyNe"
      }
    },
    {
      "cell_type": "code",
      "source": [
        "import h5py\n",
        "import numpy as np\n",
        "\n",
        "def load_dataset():\n",
        "    # Load the training set\n",
        "    train_dataset = h5py.File('/content/train_catvnoncat.h5', \"r\")\n",
        "    train_set_x_orig = np.array(train_dataset[\"train_set_x\"][:])  # your train set features\n",
        "    train_set_y_orig = np.array(train_dataset[\"train_set_y\"][:])  # your train set labels\n",
        "\n",
        "    # Load the test set\n",
        "    test_dataset = h5py.File('/content/test_catvnoncat.h5', \"r\")\n",
        "    test_set_x_orig = np.array(test_dataset[\"test_set_x\"][:])  # your test set features\n",
        "    test_set_y_orig = np.array(test_dataset[\"test_set_y\"][:])  # your test set labels\n",
        "\n",
        "    classes = np.array(test_dataset[\"list_classes\"][:])  # the list of classes\n",
        "\n",
        "    # Reshape the labels to match the expected format\n",
        "    train_set_y_orig = train_set_y_orig.reshape((1, train_set_y_orig.shape[0]))\n",
        "    test_set_y_orig = test_set_y_orig.reshape((1, test_set_y_orig.shape[0]))\n",
        "\n",
        "    return train_set_x_orig, train_set_y_orig, test_set_x_orig, test_set_y_orig, classes\n",
        "\n",
        "# Load the data\n",
        "train_set_x_orig, train_set_y, test_set_x_orig, test_set_y, classes = load_dataset()\n",
        "\n",
        "print(\"Training set shape:\", train_set_x_orig.shape)\n",
        "print(\"Training labels shape:\", train_set_y.shape)\n",
        "print(\"Test set shape:\", test_set_x_orig.shape)\n",
        "print(\"Test labels shape:\", test_set_y.shape)\n",
        "print(\"Classes:\", classes)"
      ],
      "metadata": {
        "colab": {
          "base_uri": "https://localhost:8080/"
        },
        "id": "rNieDkNdVqfT",
        "outputId": "befab1e0-9d7c-4cfd-e82b-a5b63fb1ef2f"
      },
      "execution_count": 18,
      "outputs": [
        {
          "output_type": "stream",
          "name": "stdout",
          "text": [
            "Training set shape: (209, 64, 64, 3)\n",
            "Training labels shape: (1, 209)\n",
            "Test set shape: (50, 64, 64, 3)\n",
            "Test labels shape: (1, 50)\n",
            "Classes: [b'non-cat' b'cat']\n"
          ]
        }
      ]
    },
    {
      "cell_type": "code",
      "source": [
        "m_train=train_set_x_orig.shape[0]\n",
        "m_test=test_set_x_orig.shape[0]\n",
        "num_px=train_set_x_orig.shape[1]\n",
        "print (\"Number of training examples: m_train = \" + str(m_train))\n",
        "print (\"Number of testing examples: m_test = \" + str(m_test))\n",
        "print (\"Height/Width of each image: num_px = \" + str(num_px))\n",
        "print (\"Each image is of size: (\" + str(num_px) + \", \" + str(num_px) + \", 3)\")\n",
        "print (\"train_set_x shape: \" + str(train_set_x_orig.shape))\n",
        "print (\"train_set_y shape: \" + str(train_set_y.shape))\n",
        "print (\"test_set_x shape: \" + str(test_set_x_orig.shape))\n",
        "print (\"test_set_y shape: \" + str(test_set_y.shape))"
      ],
      "metadata": {
        "colab": {
          "base_uri": "https://localhost:8080/"
        },
        "id": "U2eKCW02WwKd",
        "outputId": "856c039b-8732-4241-8bcc-cf18de877bf0"
      },
      "execution_count": 19,
      "outputs": [
        {
          "output_type": "stream",
          "name": "stdout",
          "text": [
            "Number of training examples: m_train = 209\n",
            "Number of testing examples: m_test = 50\n",
            "Height/Width of each image: num_px = 64\n",
            "Each image is of size: (64, 64, 3)\n",
            "train_set_x shape: (209, 64, 64, 3)\n",
            "train_set_y shape: (1, 209)\n",
            "test_set_x shape: (50, 64, 64, 3)\n",
            "test_set_y shape: (1, 50)\n"
          ]
        }
      ]
    },
    {
      "cell_type": "code",
      "source": [
        "train_set_x_flatten=train_set_x_orig.reshape(train_set_x_orig.shape[1]*train_set_x_orig.shape[2]*train_set_x_orig.shape[3],train_set_x_orig.shape[0])\n",
        "test_set_x_flatten=test_set_x_orig.reshape(test_set_x_orig.shape[1]*test_set_x_orig.shape[2]*test_set_x_orig.shape[3],test_set_x_orig.shape[0])\n",
        "print (\"train_set_x_flatten shape: \" + str(train_set_x_flatten.shape))\n",
        "print (\"train_set_y shape: \" + str(train_set_y.shape))\n",
        "print (\"test_set_x_flatten shape: \" + str(test_set_x_flatten.shape))\n",
        "print (\"test_set_y shape: \" + str(test_set_y.shape))\n",
        "print (\"sanity check after reshaping: \" + str(train_set_x_flatten[0:5,0]))"
      ],
      "metadata": {
        "colab": {
          "base_uri": "https://localhost:8080/"
        },
        "id": "L7WzrcomW56N",
        "outputId": "c42799e5-81ba-4699-e943-b1b5d69b68da"
      },
      "execution_count": 20,
      "outputs": [
        {
          "output_type": "stream",
          "name": "stdout",
          "text": [
            "train_set_x_flatten shape: (12288, 209)\n",
            "train_set_y shape: (1, 209)\n",
            "test_set_x_flatten shape: (12288, 50)\n",
            "test_set_y shape: (1, 50)\n",
            "sanity check after reshaping: [17 71 49 38 70]\n"
          ]
        }
      ]
    },
    {
      "cell_type": "markdown",
      "source": [
        "Lets first start with 2-layer network for which we have initialized parameters separately at the start of this notebook."
      ],
      "metadata": {
        "id": "KJEy3MsOXNq0"
      }
    },
    {
      "cell_type": "code",
      "source": [
        "train_set_x = train_set_x_flatten/255.\n",
        "test_set_x = test_set_x_flatten/255."
      ],
      "metadata": {
        "id": "tri5T8IIeDJt"
      },
      "execution_count": 21,
      "outputs": []
    },
    {
      "cell_type": "code",
      "source": [
        "n_x=train_set_x_flatten.shape[0]\n",
        "n_h=7\n",
        "n_y=1"
      ],
      "metadata": {
        "id": "ezQFAvGFXHD4"
      },
      "execution_count": 22,
      "outputs": []
    },
    {
      "cell_type": "code",
      "source": [
        "import matplotlib.pyplot as plt"
      ],
      "metadata": {
        "id": "bbf6tGhWdJco"
      },
      "execution_count": 23,
      "outputs": []
    },
    {
      "cell_type": "code",
      "source": [
        "def two_layer_model(X,Y,layer_dims,learning_rate=0.0075,num_iterations=20000,print_cost=False):\n",
        "  (n_x,n_h,n_y)=layer_dims\n",
        "  parameters=initialize_parameters(n_x,n_h,n_y)\n",
        "  grads={}\n",
        "  costs=[]\n",
        "  m=X.shape[1]\n",
        "\n",
        "  W1=parameters[\"W1\"]\n",
        "  b1=parameters[\"b1\"]\n",
        "  W2=parameters[\"W2\"]\n",
        "  b2=parameters[\"b2\"]\n",
        "\n",
        "  for i in range(num_iterations):\n",
        "    A1,cache1=linear_activation_forward(X, W1, b1, activation=\"relu\")\n",
        "    A2,cache2=linear_activation_forward(A1, W2, b2, activation=\"sigmoid\")\n",
        "    cost=compute_cost(A2,Y)\n",
        "\n",
        "    dA2=np.divide(-Y,A2)+np.divide((1-Y),(1-A2))\n",
        "    dA1,dW2,db2=linear_activation_backward(dA2,cache2,\"sigmoid\")\n",
        "    dA0,dW1,db1=linear_activation_backward(dA1,cache1,\"relu\")\n",
        "\n",
        "    grads[\"dW1\"]=dW1\n",
        "    grads[\"db1\"]=db1\n",
        "    grads[\"dW2\"]=dW2\n",
        "    grads[\"db2\"]=db2\n",
        "\n",
        "    parameters=update_parameters(parameters,grads,learning_rate)\n",
        "\n",
        "    W1=parameters[\"W1\"]\n",
        "    b1=parameters[\"b1\"]\n",
        "    W2=parameters[\"W2\"]\n",
        "    b2=parameters[\"b2\"]\n",
        "\n",
        "    if print_cost and i % 1000 == 0:\n",
        "        print(\"Cost after iteration {}: {}\".format(i, np.squeeze(cost)))\n",
        "    if i % 100 == 0:\n",
        "        costs.append(cost)\n",
        "\n",
        "  plt.plot(np.squeeze(costs))\n",
        "  plt.ylabel('cost')\n",
        "  plt.xlabel('iterations (per hundreds)')\n",
        "  plt.title(\"Learning rate =\" + str(learning_rate))\n",
        "  plt.show()\n",
        "  return parameters"
      ],
      "metadata": {
        "id": "f5oMCah9Y9CQ"
      },
      "execution_count": 24,
      "outputs": []
    },
    {
      "cell_type": "code",
      "source": [
        "parameters=two_layer_model(train_set_x, train_set_y,layer_dims=(n_x,n_h,n_y),num_iterations=20000,print_cost=True)"
      ],
      "metadata": {
        "colab": {
          "base_uri": "https://localhost:8080/",
          "height": 829
        },
        "id": "OgGm3WcTeq9l",
        "outputId": "81943396-7d13-48e2-9678-af48449e129b"
      },
      "execution_count": 25,
      "outputs": [
        {
          "output_type": "stream",
          "name": "stdout",
          "text": [
            "Cost after iteration 0: 0.6952945519559401\n",
            "Cost after iteration 1000: 0.4913858362979822\n",
            "Cost after iteration 2000: 0.42382549241333234\n",
            "Cost after iteration 3000: 0.3616557970520104\n",
            "Cost after iteration 4000: 0.3106708857852943\n",
            "Cost after iteration 5000: 0.27524300095888016\n",
            "Cost after iteration 6000: 0.13415580172815092\n",
            "Cost after iteration 7000: 0.07350690136619226\n",
            "Cost after iteration 8000: 0.04097085983300461\n",
            "Cost after iteration 9000: 0.028876969982885\n",
            "Cost after iteration 10000: 0.022824746444417936\n",
            "Cost after iteration 11000: 0.019239646556667205\n",
            "Cost after iteration 12000: 0.016867146923325686\n",
            "Cost after iteration 13000: 0.015083323878144109\n",
            "Cost after iteration 14000: 0.013747012859634266\n",
            "Cost after iteration 15000: 0.012701130953626811\n",
            "Cost after iteration 16000: 0.011818364854486242\n",
            "Cost after iteration 17000: 0.011091121427841232\n",
            "Cost after iteration 18000: 0.010459930363803438\n",
            "Cost after iteration 19000: 0.009915967259796116\n"
          ]
        },
        {
          "output_type": "display_data",
          "data": {
            "text/plain": [
              "<Figure size 640x480 with 1 Axes>"
            ],
            "image/png": "[encoded data removed]"
          },
          "metadata": {}
        }
      ]
    },
    {
      "cell_type": "code",
      "source": [
        "def predict(X, Y, parameters):\n",
        "    W1 = parameters[\"W1\"]\n",
        "    b1 = parameters[\"b1\"]\n",
        "    W2 = parameters[\"W2\"]\n",
        "    b2 = parameters[\"b2\"]\n",
        "\n",
        "    # Forward propagation\n",
        "    Z1 = np.dot(W1, X) + b1\n",
        "    A1,cache1 = relu(Z1)\n",
        "    Z2 = np.dot(W2, A1) + b2\n",
        "    A2,cache2 = sigmoid(Z2)\n",
        "\n",
        "    # Convert probabilities to binary predictions\n",
        "    predictions = (A2 > 0.5) * 1.0\n",
        "\n",
        "    # Calculate accuracy\n",
        "    accuracy = np.mean(predictions == Y) * 100\n",
        "\n",
        "    return accuracy"
      ],
      "metadata": {
        "id": "sm739Wi3fhGU"
      },
      "execution_count": 30,
      "outputs": []
    },
    {
      "cell_type": "code",
      "source": [
        "predictions_train = predict(train_set_x,train_set_y, parameters)\n",
        "print(f\"Training accuracy: {predictions_train}%\")"
      ],
      "metadata": {
        "colab": {
          "base_uri": "https://localhost:8080/"
        },
        "id": "ylDCbntTjByN",
        "outputId": "f8a39a4a-ae92-4971-cdc1-3890e94fcf98"
      },
      "execution_count": 31,
      "outputs": [
        {
          "output_type": "stream",
          "name": "stdout",
          "text": [
            "Training accuracy: 100.0%\n"
          ]
        }
      ]
    },
    {
      "cell_type": "code",
      "source": [
        "predictions_test = predict(test_set_x,test_set_y, parameters)\n",
        "print(f\"Testing accuracy: {predictions_test}%\")"
      ],
      "metadata": {
        "colab": {
          "base_uri": "https://localhost:8080/"
        },
        "id": "KxLBPOynk3KR",
        "outputId": "c66edba7-7ed5-4205-ffaf-0ee792692d48"
      },
      "execution_count": 34,
      "outputs": [
        {
          "output_type": "stream",
          "name": "stdout",
          "text": [
            "Testing accuracy: 34.0%\n"
          ]
        }
      ]
    },
    {
      "cell_type": "markdown",
      "source": [
        "The model is still overfitting."
      ],
      "metadata": {
        "id": "gY1_-cLJmGeC"
      }
    },
    {
      "cell_type": "code",
      "source": [
        "def L_layer_model(X,Y,layer_dims,learning_rate=0.0075,num_iterations=3000,print_cost=False):\n",
        "  parameters=initialize_deep(layer_dims)\n",
        "  costs=[]\n",
        "  m=X.shape[1]\n",
        "  for i in range(0,num_iterations):\n",
        "    AL,caches=L_model_forward(parameters,X)\n",
        "    cost=compute_cost(AL,Y)\n",
        "    grads=L_model_backward(AL,Y,caches)\n",
        "    parameters = update_parameters(parameters, grads, learning_rate)\n",
        "    if print_cost and i % 1000 == 0:\n",
        "      print (\"Cost after iteration %i: %f\" %(i, cost))\n",
        "    if i % 100 == 0:\n",
        "      costs.append(cost)\n",
        "  plt.plot(np.squeeze(costs))\n",
        "  plt.ylabel('cost')\n",
        "  plt.xlabel('iterations (per hundreds)')\n",
        "  plt.title(\"Learning rate =\" + str(learning_rate))\n",
        "  plt.show()\n",
        "\n",
        "  return parameters"
      ],
      "metadata": {
        "id": "tfAiYG6FlnKg"
      },
      "execution_count": 53,
      "outputs": []
    },
    {
      "cell_type": "code",
      "source": [
        "layer_dims = [12288, 20, 7, 5, 1]"
      ],
      "metadata": {
        "id": "aDpvx1y1pE_c"
      },
      "execution_count": 51,
      "outputs": []
    },
    {
      "cell_type": "code",
      "source": [
        "para = L_layer_model(train_set_x, train_set_y, layer_dims, num_iterations = 10000, print_cost = True)"
      ],
      "metadata": {
        "colab": {
          "base_uri": "https://localhost:8080/",
          "height": 651
        },
        "id": "j-WJ3wnGr8Hf",
        "outputId": "50ff5c37-f94e-4d14-9bd1-2ed1f0eb8056"
      },
      "execution_count": 56,
      "outputs": [
        {
          "output_type": "stream",
          "name": "stdout",
          "text": [
            "Cost after iteration 0: 0.635851\n",
            "Cost after iteration 1000: 0.347316\n",
            "Cost after iteration 2000: 0.134871\n",
            "Cost after iteration 3000: 0.138581\n",
            "Cost after iteration 4000: 0.028731\n",
            "Cost after iteration 5000: 0.015998\n",
            "Cost after iteration 6000: 0.012730\n",
            "Cost after iteration 7000: 0.011491\n",
            "Cost after iteration 8000: 0.010827\n",
            "Cost after iteration 9000: 0.010452\n"
          ]
        },
        {
          "output_type": "display_data",
          "data": {
            "text/plain": [
              "<Figure size 640x480 with 1 Axes>"
            ],
            "image/png": "[encoded data removed]"
          },
          "metadata": {}
        }
      ]
    },
    {
      "cell_type": "code",
      "source": [
        "# def predict1(X, Y, parameters):\n",
        "#     L = len(parameters) // 2  # Number of layers in the neural network\n",
        "#     A = X  # Input to the first layer\n",
        "\n",
        "#     # Forward propagation through all layers\n",
        "#     for l in range(1, L + 1):\n",
        "#         W = parameters[f\"W{l}\"]\n",
        "#         b = parameters[f\"b{l}\"]\n",
        "\n",
        "#         Z = np.dot(W, A) + b  # Linear step\n",
        "#         if l < L:  # Apply ReLU for all layers except the last\n",
        "#             A = relu(Z)\n",
        "#         else:  # Apply sigmoid activation for the output layer\n",
        "#             A = sigmoid(Z)\n",
        "\n",
        "#     # A is the output of the last layer, convert probabilities to binary predictions\n",
        "#     predictions = (A > 0.5) * 1.0\n",
        "\n",
        "#     # Calculate accuracy\n",
        "#     accuracy = np.mean(predictions == Y) * 100\n",
        "\n",
        "#     return accuracy\n",
        "\n",
        "\n",
        "def predict1(X, Y, parameters):\n",
        "    L = len(parameters) // 2  # Number of layers in the neural network\n",
        "    A = X  # Input to the first layer\n",
        "\n",
        "    print(f\"Input shape: {X.shape}\")\n",
        "    print(f\"Y shape: {Y.shape}\")\n",
        "\n",
        "    # Forward propagation through all layers\n",
        "    for l in range(1, L + 1):\n",
        "        W = parameters[f\"W{l}\"]\n",
        "        b = parameters[f\"b{l}\"]\n",
        "\n",
        "        print(f\"\\nLayer {l}:\")\n",
        "        print(f\"W{l} shape: {W.shape}\")\n",
        "        print(f\"b{l} shape: {b.shape}\")\n",
        "        print(f\"A shape before: {A.shape}\")\n",
        "\n",
        "        try:\n",
        "            Z = np.dot(W, A) + b  # Linear step\n",
        "        except ValueError as e:\n",
        "            print(f\"Error in layer {l}: {e}\")\n",
        "            print(f\"W shape: {W.shape}, A shape: {A.shape}, b shape: {b.shape}\")\n",
        "            raise\n",
        "\n",
        "        print(f\"Z shape after: {Z.shape}\")\n",
        "\n",
        "        if l < L:  # Apply ReLU for all layers except the last\n",
        "            A, _ = relu(Z)  # Only keep the activation, discard the cache\n",
        "        else:  # Apply sigmoid activation for the output layer\n",
        "            A, _ = sigmoid(Z)  # Only keep the activation, discard the cache\n",
        "\n",
        "        print(f\"A shape after: {A.shape}\")\n",
        "\n",
        "    # A is the output of the last layer, convert probabilities to binary predictions\n",
        "    predictions = (A > 0.5).astype(float)\n",
        "\n",
        "    print(f\"\\nFinal predictions shape: {predictions.shape}\")\n",
        "\n",
        "    # Calculate accuracy\n",
        "    accuracy = np.mean(predictions == Y) * 100\n",
        "\n",
        "    return accuracy\n",
        "\n",
        "# Test the function\n",
        "try:\n",
        "    accuracy = predict1(train_set_x, train_set_y, para)\n",
        "    print(f\"\\n training Accuracy: {accuracy}%\")\n",
        "except Exception as e:\n",
        "    print(f\"An error occurred: {e}\")"
      ],
      "metadata": {
        "colab": {
          "base_uri": "https://localhost:8080/"
        },
        "id": "9L-dmoeFvBw-",
        "outputId": "7ebb1758-9b2c-45f0-e17d-dbb585b70a64"
      },
      "execution_count": 64,
      "outputs": [
        {
          "output_type": "stream",
          "name": "stdout",
          "text": [
            "Input shape: (12288, 209)\n",
            "Y shape: (1, 209)\n",
            "\n",
            "Layer 1:\n",
            "W1 shape: (20, 12288)\n",
            "b1 shape: (20, 1)\n",
            "A shape before: (12288, 209)\n",
            "Z shape after: (20, 209)\n",
            "A shape after: (20, 209)\n",
            "\n",
            "Layer 2:\n",
            "W2 shape: (7, 20)\n",
            "b2 shape: (7, 1)\n",
            "A shape before: (20, 209)\n",
            "Z shape after: (7, 209)\n",
            "A shape after: (7, 209)\n",
            "\n",
            "Layer 3:\n",
            "W3 shape: (5, 7)\n",
            "b3 shape: (5, 1)\n",
            "A shape before: (7, 209)\n",
            "Z shape after: (5, 209)\n",
            "A shape after: (5, 209)\n",
            "\n",
            "Layer 4:\n",
            "W4 shape: (1, 5)\n",
            "b4 shape: (1, 1)\n",
            "A shape before: (5, 209)\n",
            "Z shape after: (1, 209)\n",
            "A shape after: (1, 209)\n",
            "\n",
            "Final predictions shape: (1, 209)\n",
            "\n",
            " training Accuracy: 99.52153110047847%\n"
          ]
        }
      ]
    },
    {
      "cell_type": "code",
      "source": [
        "try:\n",
        "    accuracy = predict1(test_set_x,test_set_y, para)\n",
        "    print(f\"\\n training Accuracy: {accuracy}%\")\n",
        "except Exception as e:\n",
        "    print(f\"An error occurred: {e}\")"
      ],
      "metadata": {
        "colab": {
          "base_uri": "https://localhost:8080/"
        },
        "id": "CI1PEXFu071H",
        "outputId": "6fee4d04-0b1f-45db-fd09-043943fed015"
      },
      "execution_count": 65,
      "outputs": [
        {
          "output_type": "stream",
          "name": "stdout",
          "text": [
            "Input shape: (12288, 50)\n",
            "Y shape: (1, 50)\n",
            "\n",
            "Layer 1:\n",
            "W1 shape: (20, 12288)\n",
            "b1 shape: (20, 1)\n",
            "A shape before: (12288, 50)\n",
            "Z shape after: (20, 50)\n",
            "A shape after: (20, 50)\n",
            "\n",
            "Layer 2:\n",
            "W2 shape: (7, 20)\n",
            "b2 shape: (7, 1)\n",
            "A shape before: (20, 50)\n",
            "Z shape after: (7, 50)\n",
            "A shape after: (7, 50)\n",
            "\n",
            "Layer 3:\n",
            "W3 shape: (5, 7)\n",
            "b3 shape: (5, 1)\n",
            "A shape before: (7, 50)\n",
            "Z shape after: (5, 50)\n",
            "A shape after: (5, 50)\n",
            "\n",
            "Layer 4:\n",
            "W4 shape: (1, 5)\n",
            "b4 shape: (1, 1)\n",
            "A shape before: (5, 50)\n",
            "Z shape after: (1, 50)\n",
            "A shape after: (1, 50)\n",
            "\n",
            "Final predictions shape: (1, 50)\n",
            "\n",
            " training Accuracy: 40.0%\n"
          ]
        }
      ]
    },
    {
      "cell_type": "markdown",
      "source": [
        "Training accuracy improved by very little, there is still much overfitting going on."
      ],
      "metadata": {
        "id": "HUt1Eth82S4D"
      }
    },
    {
      "cell_type": "code",
      "source": [],
      "metadata": {
        "id": "I-ZF7_Oc1SpH"
      },
      "execution_count": null,
      "outputs": []
    }
  ]
}