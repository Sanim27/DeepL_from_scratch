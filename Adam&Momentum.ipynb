{
  "nbformat": 4,
  "nbformat_minor": 0,
  "metadata": {
    "colab": {
      "provenance": [],
      "authorship_tag": "ABX9TyP5M9JpjWflfC4vw0bAl/Cf",
      "include_colab_link": true
    },
    "kernelspec": {
      "name": "python3",
      "display_name": "Python 3"
    },
    "language_info": {
      "name": "python"
    }
  },
  "cells": [
    {
      "cell_type": "markdown",
      "metadata": {
        "id": "view-in-github",
        "colab_type": "text"
      },
      "source": [
        "<a href=\"https://colab.research.google.com/github/Sanim27/DeepL_from_scratch/blob/main/Adam%26Momentum.ipynb\" target=\"_parent\"><img src=\"https://colab.research.google.com/assets/colab-badge.svg\" alt=\"Open In Colab\"/></a>"
      ]
    },
    {
      "cell_type": "markdown",
      "source": [
        "### Lets start with creating mini batch."
      ],
      "metadata": {
        "id": "UKEllcf-CQjS"
      }
    },
    {
      "cell_type": "markdown",
      "source": [
        "2 Steps:"
      ],
      "metadata": {
        "id": "uv_g-s-TCZG5"
      }
    },
    {
      "cell_type": "markdown",
      "source": [
        "\n",
        "\n",
        "1.   Shuffle examples\n",
        "2.   Partition them into equal size except for last mini batch which might be smaller.\n",
        "\n"
      ],
      "metadata": {
        "id": "dR07eagWCbcI"
      }
    },
    {
      "cell_type": "code",
      "execution_count": 1,
      "metadata": {
        "id": "QyDthi4NCMkL"
      },
      "outputs": [],
      "source": [
        "def random_mini_batches(X,Y,mini_batch_size=64):\n",
        "  m=X.shape[1]\n",
        "  mini_batches=[]\n",
        "  permutation=list(np.random.permutation(m))\n",
        "  shuffled_X=X[:,permutation]\n",
        "  shuffled_Y=Y[:,permutation].reshape((1,m))\n",
        "  num_complete_mini_batches=math.floor(m/mini_batch_size)\n",
        "  for k in range(0,num_complete_mini_batches):\n",
        "    mini_batch_X=shuffled_X[:,k*mini_batch_size:(k+1)*mini_batch_size]\n",
        "    mini_batch_Y=shuffled_Y[:,k*mini_batch_size:(k+1)*mini_batch_size]\n",
        "    mini_batch=(mini_batch_X,mini_batch_Y)\n",
        "    mini_batches.append(mini_batch)\n",
        "\n",
        "  if m%mini_batch_size!=0:\n",
        "    mini_batch_X=shuffled_X[:,num_complete_mini_batches*mini_batch_size:m]\n",
        "    mini_batch_Y=shuffled_Y[:,num_complete_mini_batches*mini_batch_size:m]\n",
        "    mini_batch=(mini_batch_X,mini_batch_Y)\n",
        "    mini_batches.append(mini_batch)\n",
        "\n",
        "  return mini_batches"
      ]
    },
    {
      "cell_type": "markdown",
      "source": [
        "Since mini-batch gradient descent makes update by seeing only a fraction of examples, hence it is necessary to use some sort of momentum so that it doesnt deviate from going to the bottom of the loss function curve."
      ],
      "metadata": {
        "id": "fUXDYiaIF356"
      }
    },
    {
      "cell_type": "markdown",
      "source": [
        "### Mini-batch-gradient-descent with Momentum Implementation"
      ],
      "metadata": {
        "id": "PPQZdpmHGJj0"
      }
    },
    {
      "cell_type": "markdown",
      "source": [
        "Initializing all V's (velocities) is required at the beginning."
      ],
      "metadata": {
        "id": "bE1Vmxm1GP5i"
      }
    },
    {
      "cell_type": "code",
      "source": [
        "import numpy as np"
      ],
      "metadata": {
        "id": "QMDso7uPGtfz"
      },
      "execution_count": 2,
      "outputs": []
    },
    {
      "cell_type": "code",
      "source": [
        "def initialize_velocity(parameters):\n",
        "  L=len(parameters)//2\n",
        "  v={}\n",
        "  for l in range(L):\n",
        "    v[\"dW\"+str(l+1)]=np.zeros((parameters[\"W\"+str(l+1)].shape[0],parameters[\"W\"+str(l+1)].shape[1]))\n",
        "    v[\"db\"+str(l+1)]=np.zeros((parameters[\"b\"+str(l+1)].shape[0],parameters[\"b\"+str(l+1)].shape[1]))\n",
        "  return v"
      ],
      "metadata": {
        "id": "nPqT0k2-FFi9"
      },
      "execution_count": 3,
      "outputs": []
    },
    {
      "cell_type": "markdown",
      "source": [
        "Now that V's are ready lets update them using momentum."
      ],
      "metadata": {
        "id": "GLXWLk7_HIyI"
      }
    },
    {
      "cell_type": "code",
      "source": [
        "def update_parameters_with_momentum(parameters,grads,v,beta,learning_rate):\n",
        "  L=len(parameters)//2\n",
        "  for l in range(L):\n",
        "    v[\"dW\"+str(l+1)]=beta*v[\"dW\"+str(l+1)]+(1-beta)*grads[\"dW\"+str(l+1)]\n",
        "    v[\"db\"+str(l+1)]=beta*v[\"db\"+str(l+1)]+(1-beta)*grads[\"db\"+str(l+1)]\n",
        "\n",
        "    parameters[\"W\"+str(l+1)]=parameters[\"W\"+str(l+1)]-learning_rate*v[\"dW\"+str(l+1)]\n",
        "    parameters[\"b\"+str(l+1)]=parameters[\"b\"+str(l+1)]-learning_rate*v[\"db\"+str(l+1)]\n",
        "\n",
        "  return parameters,v"
      ],
      "metadata": {
        "id": "USRVVuCMHIQ8"
      },
      "execution_count": 4,
      "outputs": []
    },
    {
      "cell_type": "markdown",
      "source": [
        "For this beta can be between 0.8 to 0.999 but 0.9 is generally used if we dont want to tune it. Lazy Fellas."
      ],
      "metadata": {
        "id": "stArsyJHKqWc"
      }
    },
    {
      "cell_type": "markdown",
      "source": [
        "Lets move onto Adam now."
      ],
      "metadata": {
        "id": "oeBwz1fcK0RV"
      }
    },
    {
      "cell_type": "markdown",
      "source": [
        "It combines RMSprop and momentum hence we can use this to also know how RMSprop works."
      ],
      "metadata": {
        "id": "7jygbEjLK5hh"
      }
    },
    {
      "cell_type": "markdown",
      "source": [
        "First lets initialize parameters for Adam."
      ],
      "metadata": {
        "id": "uI1R6jDcNUWz"
      }
    },
    {
      "cell_type": "code",
      "source": [
        "def initialize_parameters_Adam(parameters):\n",
        "  L=len(parameters)//2\n",
        "  v={}\n",
        "  s={}\n",
        "  for l in range(L):\n",
        "    v[\"dW\"+str(l+1)]=np.zeros((parameters[\"W\"+str(l+1)].shape[0],parameters[\"W\"+str(l+1)].shape[1]))\n",
        "    v[\"db\"+str(l+1)]=np.zeros((parameters[\"b\"+str(l+1)].shape[0],parameters[\"b\"+str(l+1)].shape[1]))\n",
        "    s[\"dW\"+str(l+1)]=np.zeros((parameters[\"W\"+str(l+1)].shape[0],parameters[\"W\"+str(l+1)].shape[1]))\n",
        "    s[\"db\"+str(l+1)]=np.zeros((parameters[\"b\"+str(l+1)].shape[0],parameters[\"b\"+str(l+1)].shape[1]))\n",
        "  return v,s"
      ],
      "metadata": {
        "id": "MjIcnnhqJrdd"
      },
      "execution_count": 10,
      "outputs": []
    },
    {
      "cell_type": "code",
      "source": [
        "def update_parameters_Adam(parameters,grads,v,s,t,learning_rate=0.01,beta1=0.9,beta2=0.999,epsilon=1e-8):\n",
        "  L=len(parameters)//2\n",
        "  v_corrected={}\n",
        "  s_corrected={}\n",
        "  for l in range(L):\n",
        "    v[\"dW\"+str(l+1)]=beta1*v[\"dW\"+str(l+1)]+(1-beta1)*grads[\"dW\"+str(l+1)]\n",
        "    v[\"db\"+str(l+1)]=beta1*v[\"db\"+str(l+1)]+(1-beta1)*grads[\"db\"+str(l+1)]\n",
        "    s[\"dW\"+str(l+1)]=beta2*s[\"dW\"+str(l+1)]+(1-beta2)*np.square(grads[\"dW\"+str(l+1)])\n",
        "    s[\"db\"+str(l+1)]=beta2*s[\"db\"+str(l+1)]+(1-beta2)*np.square(grads[\"db\"+str(l+1)])\n",
        "\n",
        "    v_corrected[\"dW\"+str(l+1)]=v[\"dW\"+str(l+1)]/(1-np.power(beta1,t))\n",
        "    v_corrected[\"db\"+str(l+1)]=v[\"db\"+str(l+1)]/(1-np.power(beta1,t))\n",
        "    s_corrected[\"dW\"+str(l+1)]=s[\"dW\"+str(l+1)]/(1-np.power(beta2,t))\n",
        "    s_corrected[\"db\"+str(l+1)]=s[\"db\"+str(l+1)]/(1-np.power(beta2,t))\n",
        "\n",
        "    parameters[\"W\"+str(l+1)]=parameters[\"W\"+str(l+1)]-learning_rate*v_corrected[\"dW\"+str(l+1)]/np.sqrt(s_corrected[\"dW\"+str(l+1)]+epsilon)\n",
        "    parameters[\"b\"+str(l+1)]=parameters[\"b\"+str(l+1)]-learning_rate*v_corrected[\"db\"+str(l+1)]/np.sqrt(s_corrected[\"db\"+str(l+1)]+epsilon)\n",
        "\n",
        "  return parameters,v,s"
      ],
      "metadata": {
        "id": "rXlT_8pAOhpK"
      },
      "execution_count": 12,
      "outputs": []
    }
  ]
}