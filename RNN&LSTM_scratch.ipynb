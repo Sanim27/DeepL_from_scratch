{
  "nbformat": 4,
  "nbformat_minor": 0,
  "metadata": {
    "colab": {
      "provenance": [],
      "authorship_tag": "ABX9TyMsfRnN/DeFFLEbeVOYpfpK",
      "include_colab_link": true
    },
    "kernelspec": {
      "name": "python3",
      "display_name": "Python 3"
    },
    "language_info": {
      "name": "python"
    }
  },
  "cells": [
    {
      "cell_type": "markdown",
      "metadata": {
        "id": "view-in-github",
        "colab_type": "text"
      },
      "source": [
        "<a href=\"https://colab.research.google.com/github/Sanim27/DeepL_from_scratch/blob/main/RNN%26LSTM_scratch.ipynb\" target=\"_parent\"><img src=\"https://colab.research.google.com/assets/colab-badge.svg\" alt=\"Open In Colab\"/></a>"
      ]
    },
    {
      "cell_type": "markdown",
      "source": [
        "Lets dive into the world of RNN and LSTM."
      ],
      "metadata": {
        "id": "rnXS47vzCfPS"
      }
    },
    {
      "cell_type": "markdown",
      "source": [
        "First lets implement RNN cell."
      ],
      "metadata": {
        "id": "bEapKtSACjM6"
      }
    },
    {
      "cell_type": "markdown",
      "source": [
        "a<t>=tanh ( Wax x<t> + Waa a<t-1> +ba )\n",
        "....\n",
        "....\n",
        "yhat<t> = softmax ( Wya a<t> +by )"
      ],
      "metadata": {
        "id": "HtQ8B0s9Cl1q"
      }
    },
    {
      "cell_type": "code",
      "execution_count": 18,
      "metadata": {
        "id": "L23pjOzHB6Kf"
      },
      "outputs": [],
      "source": [
        "def softmax(z):\n",
        "    e_z = np.exp(z - np.max(z, axis=0, keepdims=True))  # for numerical stability\n",
        "    return e_z / np.sum(e_z, axis=0, keepdims=True)"
      ]
    },
    {
      "cell_type": "code",
      "source": [
        "import numpy as np"
      ],
      "metadata": {
        "id": "Be-bdE86Eopd"
      },
      "execution_count": 12,
      "outputs": []
    },
    {
      "cell_type": "code",
      "source": [
        "def rnn_cell_forward(xt, a_prev, parameters):\n",
        "  Wax=parameters[\"Wax\"]\n",
        "  Waa=parameters[\"Waa\"]\n",
        "  Wya=parameters[\"Wya\"]\n",
        "  ba=parameters[\"ba\"]\n",
        "  by=parameters[\"by\"]\n",
        "\n",
        "  a_next=np.tanh(np.dot(Wax,xt)+np.dot(Waa,a_prev)+ba)\n",
        "  yt_pred=softmax(np.dot(Wya,a_next)+by)\n",
        "\n",
        "  cache=(a_next,a_prev,xt,parameters)\n",
        "\n",
        "  return a_next,yt_pred,cache"
      ],
      "metadata": {
        "id": "5YXiDbllEW-y"
      },
      "execution_count": 13,
      "outputs": []
    },
    {
      "cell_type": "markdown",
      "source": [
        "Now building the whole loop for all time stamps."
      ],
      "metadata": {
        "id": "FteTuu1IFvOR"
      }
    },
    {
      "cell_type": "code",
      "source": [
        "def rnn_forward(x,a0,parameters):\n",
        "  caches=[]\n",
        "  n_x,m,T_x=x.shape\n",
        "  n_y,n_a=parameters[\"Wya\"].shape\n",
        "  a=np.zeros((n_a,m,T_x))\n",
        "  y_pred=np.zeros((n_y,m,T_x))\n",
        "  a_next=a0\n",
        "  for t in range(T_x):\n",
        "    a_next,yt_pred,cache=rnn_cell_forward(x[:,:,t],a_next,parameters)\n",
        "    a[:,:,t]=a_next\n",
        "    y_pred[:,:,t]=yt_pred\n",
        "    caches.append(cache)\n",
        "  caches=(caches,x)\n",
        "  return a,y_pred,caches"
      ],
      "metadata": {
        "id": "pLZ3QC8mE0IG"
      },
      "execution_count": 14,
      "outputs": []
    },
    {
      "cell_type": "markdown",
      "source": [
        "Onto the LSTM now."
      ],
      "metadata": {
        "id": "LGJhqEjZIsiE"
      }
    },
    {
      "cell_type": "code",
      "source": [
        "def sigmoid(z):\n",
        "    return 1 / (1 + np.exp(-z))"
      ],
      "metadata": {
        "id": "uGRYOcmrRFVY"
      },
      "execution_count": 15,
      "outputs": []
    },
    {
      "cell_type": "code",
      "source": [
        "def lstm_cell_forward(xt,a_prev,c_prev,parameters):\n",
        "  Wf=parameters[\"Wf\"]\n",
        "  bf=parameters[\"bf\"]\n",
        "  Wi=parameters[\"Wi\"]\n",
        "  bi=parameters[\"bi\"]\n",
        "  Wc=parameters[\"Wc\"]\n",
        "  bc=parameters[\"bc\"]\n",
        "  Wo=parameters[\"Wo\"]\n",
        "  bo=parameters[\"bo\"]\n",
        "  Wy=parameters[\"Wy\"]\n",
        "  by=parameters[\"by\"]\n",
        "\n",
        "  n_x,m=xt.shape\n",
        "  n_y,n_a=Wy.shape\n",
        "  concat=np.concatenate([a_prev,xt])\n",
        "\n",
        "  ft=sigmoid(np.dot(Wf,concat)+bf)\n",
        "  it=sigmoid(np.dot(Wi,concat)+bi)\n",
        "  cct=np.tanh(np.dot(Wc,concat)+bc)\n",
        "  c_next=ft*c_prev+it*cct\n",
        "  ot=sigmoid(np.dot(Wo,concat)+bo)\n",
        "  a_next=ot*np.tanh(c_next)\n",
        "\n",
        "  yt_pred=softmax(np.dot(Wy,a_next)+by)\n",
        "  cache=(a_next,c_next,a_prev,c_prev,ft,it,cct,ot,xt,parameters)\n",
        "\n",
        "  return a_next,c_next,yt_pred,cache"
      ],
      "metadata": {
        "id": "YcN74JqcIWid"
      },
      "execution_count": 16,
      "outputs": []
    },
    {
      "cell_type": "markdown",
      "source": [
        "Now for all time stamps."
      ],
      "metadata": {
        "id": "1FIDrMM2Rugw"
      }
    },
    {
      "cell_type": "code",
      "source": [
        "def lstm_forward(x,a0,parameters):\n",
        "  caches=[]\n",
        "  n_x,m,T_x=x.shape\n",
        "  n_y,n_a=parameters[\"Wy\"].shape\n",
        "  a=np.zeros((n_a,m,T_x))\n",
        "  c=np.zeros((n_a,m,T_x))\n",
        "  y=np.zeros((n_y,m,T_x))\n",
        "  a_next=a0\n",
        "  c_next=np.zeros((n_a,m))\n",
        "\n",
        "  for t in range(T_x):\n",
        "    a_next,c_next,yt_pred,cache=lstm_cell_forward(x[:,:,t],a_next,c_next,parameters)\n",
        "    a[:,:,t]=a_next\n",
        "    c[:,:,t]=c_next\n",
        "    y[:,:,t]=yt_pred\n",
        "    caches.append(cache)\n",
        "  caches=(caches,x)\n",
        "  return a,y,c,caches"
      ],
      "metadata": {
        "id": "okcqzoARRtMX"
      },
      "execution_count": 17,
      "outputs": []
    },
    {
      "cell_type": "markdown",
      "source": [
        "BackProp Time !!!"
      ],
      "metadata": {
        "id": "yrDgWfP6tJjL"
      }
    },
    {
      "cell_type": "code",
      "source": [
        "def rnn_cell_backward(da_next,cache):\n",
        "  (a_next,a_prev,xt,parameters)=cache\n",
        "  Wax=parameters[\"Wax\"]\n",
        "  Waa=parameters[\"Waa\"]\n",
        "  Wya=parameters[\"Wya\"]\n",
        "  ba=parameters[\"ba\"]\n",
        "  by=parameters[\"by\"]\n",
        "\n",
        "  dtanh=da_next*(1-a_next**2)\n",
        "  dxt=np.dot(Wax.T,dtanh)\n",
        "  dWax=np.dot(dtanh,xt.T)\n",
        "\n",
        "  da_prev=np.dot(Waa.T,dtanh)\n",
        "  dWaa=np.dot(dtanh,a_prev.T)\n",
        "\n",
        "  dba=np.sum(dtanh,axis=1,keepdims=True)\n",
        "\n",
        "  gradients = {\"dxt\": dxt, \"da_prev\": da_prev, \"dWax\": dWax, \"dWaa\": dWaa, \"dba\": dba}\n",
        "\n",
        "  return gradients"
      ],
      "metadata": {
        "id": "EbOgLi_ASqUF"
      },
      "execution_count": 19,
      "outputs": []
    },
    {
      "cell_type": "code",
      "source": [
        "def rnn_backward(da,caches):\n",
        "  (caches,x)=caches\n",
        "  (a1,a0,x1,parameters)=caches[0]\n",
        "  n_a, m, T_x = da.shape\n",
        "  n_x, m = x1.shape\n",
        "  dx = np.zeros((n_x, m, T_x))\n",
        "  dWax = np.zeros((n_a, n_x))\n",
        "  dWaa = np.zeros((n_a, n_a))\n",
        "  dba = np.zeros((n_a, 1))\n",
        "  da0 = np.zeros((n_a, m))\n",
        "  da_prevt = np.zeros((n_a, m))\n",
        "  for t in reversed(range(T_x)):\n",
        "    gradients = rnn_cell_backward(da[:, :, t] + da_prevt, caches[t])\n",
        "    dxt, da_prevt, dWaxt, dWaat, dbat = gradients[\"dxt\"], gradients[\"da_prev\"], gradients[\"dWax\"], gradients[\"dWaa\"], gradients[\"dba\"]\n",
        "    dx[:, :, t] = dxt\n",
        "    dWax += dWaxt\n",
        "    dWaa += dWaat\n",
        "    dba += dbat\n",
        "  da0 = da_prevt\n",
        "  gradients = {\"dx\": dx, \"da0\": da0, \"dWax\": dWax, \"dWaa\": dWaa,\"dba\": dba}\n",
        "  return gradients"
      ],
      "metadata": {
        "id": "bED6lBrGutHm"
      },
      "execution_count": 20,
      "outputs": []
    },
    {
      "cell_type": "code",
      "source": [],
      "metadata": {
        "id": "MDsqr1fkvh72"
      },
      "execution_count": null,
      "outputs": []
    }
  ]
}